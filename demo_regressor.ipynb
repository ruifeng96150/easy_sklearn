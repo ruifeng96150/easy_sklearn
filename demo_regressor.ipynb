{
 "cells": [
  {
   "cell_type": "markdown",
   "metadata": {},
   "source": [
    "### This book will show how to use easy_sklearn to build classifier models"
   ]
  },
  {
   "cell_type": "code",
   "execution_count": 1,
   "metadata": {},
   "outputs": [
    {
     "name": "stderr",
     "output_type": "stream",
     "text": [
      "/Library/Frameworks/Python.framework/Versions/2.7/lib/python2.7/site-packages/sklearn/ensemble/weight_boosting.py:29: DeprecationWarning: numpy.core.umath_tests is an internal NumPy module and should not be imported. It will be removed in a future NumPy release.\n",
      "  from numpy.core.umath_tests import inner1d\n"
     ]
    }
   ],
   "source": [
    "import warnings\n",
    "warnings.filterwarnings(\"ignore\")\n",
    "from sklearn.datasets import load_boston\n",
    "from easy_sklearn import EasySklearnRegressor"
   ]
  },
  {
   "cell_type": "code",
   "execution_count": 2,
   "metadata": {},
   "outputs": [],
   "source": [
    "ds = load_boston()\n",
    "X = ds.data\n",
    "y = ds.target\n",
    "c = ds.feature_names"
   ]
  },
  {
   "cell_type": "code",
   "execution_count": 3,
   "metadata": {},
   "outputs": [],
   "source": [
    "esc = EasySklearnRegressor()\n",
    "X_train, X_test, y_train, y_test = esc.split_data(X, y)"
   ]
  },
  {
   "cell_type": "code",
   "execution_count": 4,
   "metadata": {},
   "outputs": [
    {
     "name": "stdout",
     "output_type": "stream",
     "text": [
      "['Lars', 'Knn', 'SVM', 'Ridge', 'Bayers', 'Poly2', 'Lin', 'Tree', 'SGD', 'BAG', 'RF', 'GBDT', 'ADA', 'ET', 'ElasN', 'Lasso']\n"
     ]
    }
   ],
   "source": [
    "print(esc.default_models_name_)"
   ]
  },
  {
   "cell_type": "code",
   "execution_count": 5,
   "metadata": {},
   "outputs": [
    {
     "name": "stdout",
     "output_type": "stream",
     "text": [
      "['scale', 'qt', 'maxabs', 'minmax', 'robust', 'norm']\n"
     ]
    }
   ],
   "source": [
    "print(esc.default_scalers_name_)"
   ]
  },
  {
   "cell_type": "code",
   "execution_count": 6,
   "metadata": {},
   "outputs": [
    {
     "name": "stdout",
     "output_type": "stream",
     "text": [
      "begin train:------------------------------\n",
      "('traing data shape', (404, 13))\n",
      "('training scaler:', 'scale')\n",
      "('find best model', 'scale', 'Lars')\n",
      "('find best model', 'scale', 'Knn')\n",
      "('find best model', 'scale', 'Poly2')\n",
      "('find best model', 'scale', 'BAG')\n",
      "('find best model', 'scale', 'GBDT')\n",
      "('training scaler:', 'qt')\n",
      "('find best model', 'qt', 'GBDT')\n",
      "('training scaler:', 'maxabs')\n",
      "('training scaler:', 'minmax')\n",
      "('training scaler:', 'robust')\n",
      "('training scaler:', 'norm')\n",
      "('find best model', 'norm', 'GBDT')\n",
      "\n",
      "train result:------------------------------\n",
      "  model  scaler  train_score  valid_score      time\n",
      "0  GBDT    norm     0.980253     0.873466  0.062994\n",
      "1  GBDT      qt     0.984043     0.865962  0.056274\n",
      "2  GBDT  minmax     0.983879     0.864972  0.048580\n",
      "3  GBDT   scale     0.983879     0.864727  0.061692\n",
      "4  GBDT  robust     0.983879     0.862354  0.050438\n",
      "5  GBDT  maxabs     0.983879     0.861339  0.063708\n",
      "6   BAG  minmax     0.959600     0.847166  0.038644\n",
      "7   BAG   scale     0.965317     0.846662  0.039138\n",
      "8    RF  robust     0.970858     0.843432  0.041089\n",
      "9    RF   scale     0.974122     0.838771  0.042590\n",
      "\n",
      " group by model\n",
      "        train_score  valid_score      time\n",
      "model                                     \n",
      "GBDT       0.983302     0.865470  0.057281\n",
      "BAG        0.970340     0.827438  0.047482\n",
      "RF         0.972523     0.823195  0.044920\n",
      "Poly2      0.926308     0.762231  0.014035\n",
      "ADA        0.902668     0.760536  0.312185\n",
      "Tree       1.000000     0.737852  0.003492\n",
      "Bayers     0.722070     0.731695  0.002198\n",
      "Lars       0.724338     0.730309  0.003808\n",
      "Lin        0.724338     0.730309  0.001185\n",
      "ET         1.000000     0.698983  0.001828\n",
      "Knn        0.763009     0.663489  0.003928\n",
      "Ridge      0.652499     0.655136  0.001399\n",
      "SVM        0.416006     0.445488  0.008599\n",
      "SGD        0.368308     0.408739  0.001054\n",
      "Lasso      0.374183     0.367302  0.001165\n",
      "ElasN      0.296657     0.307423  0.001143\n",
      "\n",
      " group by scaler\n",
      "        train_score  valid_score      time\n",
      "scaler                                    \n",
      "scale      0.815030     0.748929  0.030451\n",
      "robust     0.804507     0.738007  0.029931\n",
      "minmax     0.717998     0.644459  0.029004\n",
      "qt         0.750431     0.641152  0.036683\n",
      "maxabs     0.707502     0.626624  0.031368\n",
      "norm       0.628239     0.544177  0.032200\n"
     ]
    }
   ],
   "source": [
    "esc.set(models='',scalers='')\n",
    "esc.fit(X_train, y_train)"
   ]
  },
  {
   "cell_type": "code",
   "execution_count": 7,
   "metadata": {},
   "outputs": [
    {
     "name": "stdout",
     "output_type": "stream",
     "text": [
      "\n",
      "test result:------------------------------\n",
      "('test data shape:', (102, 13), ' test with:', 'GBDT', 'norm')\n",
      "(' score:', 0.8932957519462814)\n"
     ]
    },
    {
     "data": {
      "text/plain": [
       "0.8932957519462814"
      ]
     },
     "execution_count": 7,
     "metadata": {},
     "output_type": "execute_result"
    }
   ],
   "source": [
    "esc.score(X_test, y_test)"
   ]
  },
  {
   "cell_type": "code",
   "execution_count": 8,
   "metadata": {},
   "outputs": [
    {
     "name": "stdout",
     "output_type": "stream",
     "text": [
      "\n",
      "plot learning curve:------------------------------\n"
     ]
    },
    {
     "data": {
      "image/png": "[encoded data removed]",
      "text/plain": [
       "<matplotlib.figure.Figure at 0x1136057d0>"
      ]
     },
     "metadata": {
      "needs_background": "light"
     },
     "output_type": "display_data"
    }
   ],
   "source": [
    "esc.plot_learning_curve()"
   ]
  },
  {
   "cell_type": "code",
   "execution_count": 9,
   "metadata": {},
   "outputs": [
    {
     "name": "stdout",
     "output_type": "stream",
     "text": [
      "GradientBoostingRegressor(alpha=0.9, criterion='friedman_mse', init=None,\n",
      "             learning_rate=0.1, loss='ls', max_depth=3, max_features=None,\n",
      "             max_leaf_nodes=None, min_impurity_decrease=0.0,\n",
      "             min_impurity_split=None, min_samples_leaf=1,\n",
      "             min_samples_split=2, min_weight_fraction_leaf=0.0,\n",
      "             n_estimators=100, presort='auto', random_state=None,\n",
      "             subsample=1.0, verbose=0, warm_start=False)\n"
     ]
    }
   ],
   "source": [
    "print(esc.best_model_)"
   ]
  },
  {
   "cell_type": "code",
   "execution_count": 10,
   "metadata": {},
   "outputs": [
    {
     "name": "stdout",
     "output_type": "stream",
     "text": [
      "Normalizer(copy=True, norm='l2')\n"
     ]
    }
   ],
   "source": [
    "print(esc.best_scaler_)"
   ]
  }
 ],
 "metadata": {
  "kernelspec": {
   "display_name": "Python 2",
   "language": "python",
   "name": "python2"
  },
  "language_info": {
   "codemirror_mode": {
    "name": "ipython",
    "version": 2
   },
   "file_extension": ".py",
   "mimetype": "text/x-python",
   "name": "python",
   "nbconvert_exporter": "python",
   "pygments_lexer": "ipython2",
   "version": "2.7.13"
  }
 },
 "nbformat": 4,
 "nbformat_minor": 1
}
