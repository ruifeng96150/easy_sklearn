{
 "cells": [
  {
   "cell_type": "markdown",
   "metadata": {},
   "source": [
    "### This book will show how to use easy_sklearn to build classifier models"
   ]
  },
  {
   "cell_type": "code",
   "execution_count": 1,
   "metadata": {},
   "outputs": [],
   "source": [
    "import warnings\n",
    "warnings.filterwarnings(\"ignore\")\n",
    "from sklearn.datasets import load_boston\n",
    "from easy_sklearn import EasySklearnRegressor"
   ]
  },
  {
   "cell_type": "code",
   "execution_count": 2,
   "metadata": {},
   "outputs": [],
   "source": [
    "ds = load_boston()\n",
    "X = ds.data\n",
    "y = ds.target\n",
    "c = ds.feature_names"
   ]
  },
  {
   "cell_type": "code",
   "execution_count": 3,
   "metadata": {},
   "outputs": [],
   "source": [
    "esc = EasySklearnRegressor()\n",
    "X_train, X_test, y_train, y_test = esc.split_data(X, y)"
   ]
  },
  {
   "cell_type": "code",
   "execution_count": 4,
   "metadata": {},
   "outputs": [
    {
     "name": "stdout",
     "output_type": "stream",
     "text": [
      "['Lars', 'Knn', 'SVM', 'Ridge', 'Bayers', 'Poly2', 'Lin', 'Tree', 'SGD', 'BAG', 'RF', 'GBDT', 'ADA', 'ET', 'ElasN', 'Lasso']\n"
     ]
    }
   ],
   "source": [
    "print(esc.default_models_name_)"
   ]
  },
  {
   "cell_type": "code",
   "execution_count": 5,
   "metadata": {},
   "outputs": [
    {
     "name": "stdout",
     "output_type": "stream",
     "text": [
      "['scale', 'qt', 'maxabs', 'minmax', 'robust', 'norm']\n"
     ]
    }
   ],
   "source": [
    "print(esc.default_scalers_name_)"
   ]
  },
  {
   "cell_type": "code",
   "execution_count": 6,
   "metadata": {},
   "outputs": [
    {
     "name": "stdout",
     "output_type": "stream",
     "text": [
      "begin train:------------------------------\n",
      "('traing data shape', (404, 13))\n",
      "('training scaler:', 'scale')\n",
      "('find best model', 'scale', 'Lars')\n",
      "('find best model', 'scale', 'Knn')\n",
      "('find best model', 'scale', 'Poly2')\n",
      "('find best model', 'scale', 'BAG')\n",
      "('find best model', 'scale', 'RF')\n",
      "('find best model', 'scale', 'GBDT')\n",
      "('training scaler:', 'qt')\n",
      "('find best model', 'qt', 'GBDT')\n",
      "('training scaler:', 'maxabs')\n",
      "('training scaler:', 'minmax')\n",
      "('training scaler:', 'robust')\n",
      "('training scaler:', 'norm')\n",
      "('find best model', 'norm', 'GBDT')\n",
      "\n",
      "train result:------------------------------\n",
      "  model  scaler  train_score  valid_score      time\n",
      "0  GBDT    norm     0.980083     0.870373  0.099865\n",
      "1  GBDT      qt     0.983762     0.866038  0.059669\n",
      "2   BAG  maxabs     0.976237     0.864920  0.038458\n",
      "3  GBDT  robust     0.984741     0.859879  0.061665\n",
      "4  GBDT   scale     0.984741     0.859771  0.105031\n",
      "5  GBDT  maxabs     0.984741     0.859746  0.059878\n",
      "6  GBDT  minmax     0.984741     0.859746  0.068953\n",
      "7   BAG    norm     0.972641     0.855132  0.043751\n",
      "8   BAG      qt     0.976368     0.847493  0.037163\n",
      "9   BAG  minmax     0.975009     0.827845  0.044358\n",
      "\n",
      " group by model\n",
      "        train_score  valid_score      time\n",
      "model                                     \n",
      "GBDT       0.983801     0.862592  0.075844\n",
      "BAG        0.971497     0.839487  0.041062\n",
      "RF         0.974121     0.822990  0.045960\n",
      "Tree       1.000000     0.779779  0.004087\n",
      "ADA        0.903322     0.761740  0.335004\n",
      "Poly2      0.926178     0.759401  0.016557\n",
      "Bayers     0.722141     0.731631  0.002538\n",
      "Lin        0.724408     0.730269  0.001416\n",
      "Lars       0.724408     0.730269  0.006439\n",
      "ET         1.000000     0.703596  0.002297\n",
      "Knn        0.762921     0.663725  0.006057\n",
      "Ridge      0.652519     0.655078  0.001975\n",
      "SVM        0.416287     0.445760  0.009163\n",
      "SGD        0.358933     0.385909  0.001607\n",
      "Lasso      0.374197     0.367294  0.001568\n",
      "ElasN      0.296749     0.307352  0.001737\n",
      "\n",
      " group by scaler\n",
      "        train_score  valid_score      time\n",
      "scaler                                    \n",
      "scale      0.815459     0.749961  0.039624\n",
      "robust     0.800784     0.730621  0.034074\n",
      "qt         0.750864     0.653396  0.031743\n",
      "minmax     0.719589     0.640333  0.035168\n",
      "maxabs     0.707251     0.637311  0.032572\n",
      "norm       0.627857     0.543454  0.034310\n"
     ]
    }
   ],
   "source": [
    "esc.set(models='',scalers='')\n",
    "esc.fit(X_train, y_train)"
   ]
  },
  {
   "cell_type": "code",
   "execution_count": 7,
   "metadata": {},
   "outputs": [
    {
     "name": "stdout",
     "output_type": "stream",
     "text": [
      "\n",
      "test result:------------------------------\n",
      "('test data shape:', (102, 13), ' test with:', 'GBDT', 'norm')\n",
      "(' score:', 0.8873932328095128)\n"
     ]
    },
    {
     "data": {
      "text/plain": [
       "0.8873932328095128"
      ]
     },
     "execution_count": 7,
     "metadata": {},
     "output_type": "execute_result"
    }
   ],
   "source": [
    "esc.score(X_test, y_test)"
   ]
  },
  {
   "cell_type": "code",
   "execution_count": 8,
   "metadata": {},
   "outputs": [
    {
     "name": "stdout",
     "output_type": "stream",
     "text": [
      "\n",
      "plot learning curve:------------------------------\n"
     ]
    },
    {
     "data": {
      "image/png": "[encoded data removed]",
      "text/plain": [
       "<matplotlib.figure.Figure at 0x110e7dbd0>"
      ]
     },
     "metadata": {
      "needs_background": "light"
     },
     "output_type": "display_data"
    }
   ],
   "source": [
    "esc.plot_learning_curve()"
   ]
  },
  {
   "cell_type": "code",
   "execution_count": 9,
   "metadata": {},
   "outputs": [
    {
     "name": "stdout",
     "output_type": "stream",
     "text": [
      "GradientBoostingRegressor(alpha=0.9, criterion='friedman_mse', init=None,\n",
      "             learning_rate=0.1, loss='ls', max_depth=3, max_features=None,\n",
      "             max_leaf_nodes=None, min_impurity_decrease=0.0,\n",
      "             min_impurity_split=None, min_samples_leaf=1,\n",
      "             min_samples_split=2, min_weight_fraction_leaf=0.0,\n",
      "             n_estimators=100, n_iter_no_change=None, presort='auto',\n",
      "             random_state=1, subsample=1.0, tol=0.0001,\n",
      "             validation_fraction=0.1, verbose=0, warm_start=False)\n"
     ]
    }
   ],
   "source": [
    "print(esc.best_model_)"
   ]
  },
  {
   "cell_type": "code",
   "execution_count": 10,
   "metadata": {},
   "outputs": [
    {
     "name": "stdout",
     "output_type": "stream",
     "text": [
      "Normalizer(copy=True, norm='l2')\n"
     ]
    }
   ],
   "source": [
    "print(esc.best_scaler_)"
   ]
  },
  {
   "cell_type": "code",
   "execution_count": 11,
   "metadata": {},
   "outputs": [
    {
     "name": "stdout",
     "output_type": "stream",
     "text": [
      "\n",
      "optimize:------------------------------\n",
      "Fitting 5 folds for each of 20 candidates, totalling 100 fits\n"
     ]
    },
    {
     "name": "stderr",
     "output_type": "stream",
     "text": [
      "[Parallel(n_jobs=-1)]: Using backend LokyBackend with 4 concurrent workers.\n",
      "[Parallel(n_jobs=-1)]: Done  42 tasks      | elapsed:    2.5s\n"
     ]
    },
    {
     "name": "stdout",
     "output_type": "stream",
     "text": [
      "('best parameter ', {'max_leaf_nodes': 20, 'learning_rate': 0.1, 'n_estimators': 150, 'min_samples_split': 4, 'alpha': 0.8, 'max_depth': 4})\n",
      "('The score after optimize', 0.9197135903521098)\n"
     ]
    },
    {
     "name": "stderr",
     "output_type": "stream",
     "text": [
      "[Parallel(n_jobs=-1)]: Done 100 out of 100 | elapsed:    6.5s finished\n"
     ]
    }
   ],
   "source": [
    "param_grid = {\n",
    "    'n_estimators': [50, 100, 150, 200],\n",
    "    'learning_rate': [0.1],\n",
    "    'max_depth': [4, 6, 8],\n",
    "    'alpha': [0.7, 0.8, 0.9],\n",
    "    'max_leaf_nodes': [10, 20],\n",
    "    'min_samples_split': [2, 4, 7]\n",
    "}\n",
    "\n",
    "esc.optimize(scoring='r2', param_grid=param_grid, n_splits=5, n_iter=20)"
   ]
  },
  {
   "cell_type": "code",
   "execution_count": 12,
   "metadata": {},
   "outputs": [
    {
     "name": "stdout",
     "output_type": "stream",
     "text": [
      "\n",
      " predict with model=GBDT and scaler=norm ------------------------------\n",
      "29.29445943552788\n"
     ]
    }
   ],
   "source": [
    "y_pred = esc.predict(X_test)\n",
    "print(y_pred[0])"
   ]
  },
  {
   "cell_type": "code",
   "execution_count": 13,
   "metadata": {},
   "outputs": [
    {
     "name": "stdout",
     "output_type": "stream",
     "text": [
      "\n",
      "plot plot_different:------------------------------\n"
     ]
    },
    {
     "data": {
      "image/png": "[encoded data removed]",
      "text/plain": [
       "<matplotlib.figure.Figure at 0x110f387d0>"
      ]
     },
     "metadata": {
      "needs_background": "light"
     },
     "output_type": "display_data"
    }
   ],
   "source": [
    "esc.plot_diff()"
   ]
  },
  {
   "cell_type": "code",
   "execution_count": 14,
   "metadata": {},
   "outputs": [
    {
     "name": "stdout",
     "output_type": "stream",
     "text": [
      "\n",
      "optimize:------------------------------\n",
      "Fitting 5 folds for each of 30 candidates, totalling 150 fits\n"
     ]
    },
    {
     "name": "stderr",
     "output_type": "stream",
     "text": [
      "[Parallel(n_jobs=-1)]: Using backend LokyBackend with 4 concurrent workers.\n",
      "[Parallel(n_jobs=-1)]: Done  42 tasks      | elapsed:    4.4s\n"
     ]
    },
    {
     "name": "stdout",
     "output_type": "stream",
     "text": [
      "('best parameter ', {'max_leaf_nodes': 20, 'learning_rate': 0.1, 'n_estimators': 100, 'min_samples_split': 4, 'alpha': 0.7, 'max_depth': 4})\n",
      "('The score after optimize', 0.9204134665358317)\n"
     ]
    },
    {
     "name": "stderr",
     "output_type": "stream",
     "text": [
      "[Parallel(n_jobs=-1)]: Done 150 out of 150 | elapsed:   14.1s finished\n"
     ]
    }
   ],
   "source": [
    "param_grid = {\n",
    "    'n_estimators': [50, 100, 150, 200, 250],\n",
    "    'learning_rate': [0.1, 0.02],\n",
    "    'max_depth': [4, 6, 8, 10, 20, 30],\n",
    "    'alpha': [0.7, 0.8, 0.9],\n",
    "    'max_leaf_nodes': [10, 20, 30, 40],\n",
    "    'min_samples_split': [2, 4, 7]\n",
    "}\n",
    "\n",
    "esc.optimize(scoring='r2', param_grid=param_grid, n_splits=5, n_iter=30)\n"
   ]
  }
 ],
 "metadata": {
  "kernelspec": {
   "display_name": "Python 2",
   "language": "python",
   "name": "python2"
  },
  "language_info": {
   "codemirror_mode": {
    "name": "ipython",
    "version": 2
   },
   "file_extension": ".py",
   "mimetype": "text/x-python",
   "name": "python",
   "nbconvert_exporter": "python",
   "pygments_lexer": "ipython2",
   "version": "2.7.13"
  }
 },
 "nbformat": 4,
 "nbformat_minor": 1
}
