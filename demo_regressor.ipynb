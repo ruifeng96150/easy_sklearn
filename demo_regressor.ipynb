{
 "cells": [
  {
   "cell_type": "markdown",
   "metadata": {},
   "source": [
    "### This book will show how to use easy_sklearn to build classifier models"
   ]
  },
  {
   "cell_type": "code",
   "execution_count": 1,
   "metadata": {},
   "outputs": [],
   "source": [
    "import warnings\n",
    "warnings.filterwarnings(\"ignore\")\n",
    "from sklearn.datasets import load_boston\n",
    "from easy_sklearn import EasySklearnRegressor"
   ]
  },
  {
   "cell_type": "code",
   "execution_count": 2,
   "metadata": {},
   "outputs": [],
   "source": [
    "ds = load_boston()\n",
    "X = ds.data\n",
    "y = ds.target\n",
    "c = ds.feature_names"
   ]
  },
  {
   "cell_type": "code",
   "execution_count": 3,
   "metadata": {},
   "outputs": [],
   "source": [
    "esc = EasySklearnRegressor()\n",
    "X_train, X_test, y_train, y_test = esc.split_data(X, y)"
   ]
  },
  {
   "cell_type": "code",
   "execution_count": 4,
   "metadata": {},
   "outputs": [
    {
     "name": "stdout",
     "output_type": "stream",
     "text": [
      "['Lars', 'Knn', 'SVM', 'Ridge', 'Bayers', 'Poly2', 'Lin', 'Tree', 'SGD', 'BAG', 'RF', 'GBDT', 'ADA', 'ET', 'ElasN', 'Lasso']\n"
     ]
    }
   ],
   "source": [
    "print(esc.default_models_name_)"
   ]
  },
  {
   "cell_type": "code",
   "execution_count": 5,
   "metadata": {},
   "outputs": [
    {
     "name": "stdout",
     "output_type": "stream",
     "text": [
      "['scale', 'qt', 'maxabs', 'minmax', 'robust', 'norm']\n"
     ]
    }
   ],
   "source": [
    "print(esc.default_scalers_name_)"
   ]
  },
  {
   "cell_type": "code",
   "execution_count": 6,
   "metadata": {},
   "outputs": [
    {
     "name": "stdout",
     "output_type": "stream",
     "text": [
      "begin train:------------------------------\n",
      "('traing data shape', (404, 13))\n",
      "('training scaler:', 'scale')\n",
      "('find best model', 'scale', 'Lars')\n",
      "('find best model', 'scale', 'Knn')\n",
      "('find best model', 'scale', 'Poly2')\n",
      "('find best model', 'scale', 'BAG')\n",
      "('find best model', 'scale', 'RF')\n",
      "('find best model', 'scale', 'GBDT')\n",
      "('training scaler:', 'qt')\n",
      "('find best model', 'qt', 'GBDT')\n",
      "('training scaler:', 'maxabs')\n",
      "('training scaler:', 'minmax')\n",
      "('training scaler:', 'robust')\n",
      "('training scaler:', 'norm')\n",
      "('find best model', 'norm', 'GBDT')\n",
      "\n",
      "train result:------------------------------\n",
      "  model  scaler  train_score  valid_score      time\n",
      "0  GBDT    norm     0.980083     0.871077  0.103492\n",
      "1  GBDT      qt     0.983762     0.864253  0.077723\n",
      "2  GBDT   scale     0.984741     0.862815  0.074825\n",
      "3  GBDT  maxabs     0.984741     0.862679  0.084310\n",
      "4  GBDT  minmax     0.984741     0.862013  0.074072\n",
      "5  GBDT  robust     0.984741     0.859556  0.075007\n",
      "6    RF   scale     0.965895     0.853749  0.068322\n",
      "7    RF    norm     0.967308     0.842030  0.064146\n",
      "8   BAG  minmax     0.967597     0.841377  0.059788\n",
      "9   BAG   scale     0.976353     0.836458  0.074846\n",
      "\n",
      " group by model\n",
      "        train_score  valid_score      time\n",
      "model                                     \n",
      "GBDT       0.983801     0.863732  0.081571\n",
      "RF         0.972772     0.832572  0.063293\n",
      "BAG        0.971944     0.818387  0.060156\n",
      "Tree       1.000000     0.775451  0.004921\n",
      "Poly2      0.926178     0.759401  0.018252\n",
      "ADA        0.901854     0.755337  0.380309\n",
      "Bayers     0.722141     0.731631  0.003332\n",
      "Lin        0.724408     0.730269  0.002261\n",
      "Lars       0.724408     0.730269  0.006226\n",
      "Knn        0.762921     0.663725  0.006410\n",
      "ET         1.000000     0.661166  0.002192\n",
      "Ridge      0.652519     0.655078  0.001637\n",
      "SVM        0.416287     0.445760  0.011459\n",
      "SGD        0.365985     0.404612  0.002895\n",
      "Lasso      0.374197     0.367294  0.001586\n",
      "ElasN      0.296749     0.307352  0.002143\n",
      "\n",
      " group by scaler\n",
      "        train_score  valid_score      time\n",
      "scaler                                    \n",
      "scale      0.815111     0.750942  0.047321\n",
      "robust     0.804574     0.733693  0.036403\n",
      "qt         0.750659     0.646327  0.043985\n",
      "minmax     0.718750     0.641231  0.038677\n",
      "maxabs     0.706581     0.614564  0.037424\n",
      "norm       0.627887     0.551508  0.039432\n"
     ]
    }
   ],
   "source": [
    "esc.set(models='',scalers='')\n",
    "esc.fit(X_train, y_train)"
   ]
  },
  {
   "cell_type": "code",
   "execution_count": 7,
   "metadata": {},
   "outputs": [
    {
     "name": "stdout",
     "output_type": "stream",
     "text": [
      "\n",
      "test result:------------------------------\n",
      "('test data shape:', (102, 13), ' test with:', 'GBDT', 'norm')\n",
      "(' score:', 0.8905963979604061)\n"
     ]
    },
    {
     "data": {
      "text/plain": [
       "0.8905963979604061"
      ]
     },
     "execution_count": 7,
     "metadata": {},
     "output_type": "execute_result"
    }
   ],
   "source": [
    "esc.score(X_test, y_test)"
   ]
  },
  {
   "cell_type": "code",
   "execution_count": 8,
   "metadata": {},
   "outputs": [
    {
     "name": "stdout",
     "output_type": "stream",
     "text": [
      "\n",
      "plot learning curve:------------------------------\n"
     ]
    },
    {
     "data": {
      "image/png": "[encoded data removed]",
      "text/plain": [
       "<matplotlib.figure.Figure at 0x11138fa90>"
      ]
     },
     "metadata": {
      "needs_background": "light"
     },
     "output_type": "display_data"
    }
   ],
   "source": [
    "esc.plot_learning_curve()"
   ]
  },
  {
   "cell_type": "code",
   "execution_count": 9,
   "metadata": {},
   "outputs": [
    {
     "name": "stdout",
     "output_type": "stream",
     "text": [
      "GradientBoostingRegressor(alpha=0.9, criterion='friedman_mse', init=None,\n",
      "             learning_rate=0.1, loss='ls', max_depth=3, max_features=None,\n",
      "             max_leaf_nodes=None, min_impurity_decrease=0.0,\n",
      "             min_impurity_split=None, min_samples_leaf=1,\n",
      "             min_samples_split=2, min_weight_fraction_leaf=0.0,\n",
      "             n_estimators=100, n_iter_no_change=None, presort='auto',\n",
      "             random_state=None, subsample=1.0, tol=0.0001,\n",
      "             validation_fraction=0.1, verbose=0, warm_start=False)\n"
     ]
    }
   ],
   "source": [
    "print(esc.best_model_)"
   ]
  },
  {
   "cell_type": "code",
   "execution_count": 10,
   "metadata": {},
   "outputs": [
    {
     "name": "stdout",
     "output_type": "stream",
     "text": [
      "Normalizer(copy=True, norm='l2')\n"
     ]
    }
   ],
   "source": [
    "print(esc.best_scaler_)"
   ]
  }
 ],
 "metadata": {
  "kernelspec": {
   "display_name": "Python 2",
   "language": "python",
   "name": "python2"
  },
  "language_info": {
   "codemirror_mode": {
    "name": "ipython",
    "version": 2
   },
   "file_extension": ".py",
   "mimetype": "text/x-python",
   "name": "python",
   "nbconvert_exporter": "python",
   "pygments_lexer": "ipython2",
   "version": "2.7.13"
  }
 },
 "nbformat": 4,
 "nbformat_minor": 1
}
