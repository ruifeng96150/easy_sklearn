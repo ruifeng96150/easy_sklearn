{
 "cells": [
  {
   "cell_type": "markdown",
   "metadata": {},
   "source": [
    "### This book will show how to use easy_sklearn to build classifier models"
   ]
  },
  {
   "cell_type": "code",
   "execution_count": 1,
   "metadata": {},
   "outputs": [
    {
     "name": "stderr",
     "output_type": "stream",
     "text": [
      "/Library/Frameworks/Python.framework/Versions/2.7/lib/python2.7/site-packages/sklearn/ensemble/weight_boosting.py:29: DeprecationWarning: numpy.core.umath_tests is an internal NumPy module and should not be imported. It will be removed in a future NumPy release.\n",
      "  from numpy.core.umath_tests import inner1d\n"
     ]
    }
   ],
   "source": [
    "import warnings\n",
    "warnings.filterwarnings(\"ignore\")\n",
    "from sklearn.datasets import load_iris\n",
    "from easy_sklearn import EasySklearnClassifier"
   ]
  },
  {
   "cell_type": "code",
   "execution_count": 2,
   "metadata": {},
   "outputs": [],
   "source": [
    "ds = load_iris()\n",
    "X = ds.data\n",
    "y = ds.target\n",
    "c = ds.feature_names"
   ]
  },
  {
   "cell_type": "code",
   "execution_count": 3,
   "metadata": {},
   "outputs": [],
   "source": [
    "esc = EasySklearnClassifier()\n",
    "X_train, X_test, y_train, y_test = esc.split_data(X, y)"
   ]
  },
  {
   "cell_type": "code",
   "execution_count": 4,
   "metadata": {},
   "outputs": [
    {
     "name": "stdout",
     "output_type": "stream",
     "text": [
      "['MLP', 'Bag', 'ORSVC', 'GBDT', 'LR2', 'RF', 'Tree', 'SVC', 'KN']\n"
     ]
    }
   ],
   "source": [
    "print(esc.default_models_name_)"
   ]
  },
  {
   "cell_type": "code",
   "execution_count": 5,
   "metadata": {},
   "outputs": [
    {
     "name": "stdout",
     "output_type": "stream",
     "text": [
      "['scale', 'qt', 'maxabs', 'minmax', 'robust', 'norm']\n"
     ]
    }
   ],
   "source": [
    "print(esc.default_scalers_name_)"
   ]
  },
  {
   "cell_type": "code",
   "execution_count": 6,
   "metadata": {},
   "outputs": [
    {
     "name": "stdout",
     "output_type": "stream",
     "text": [
      "begin train:------------------------------\n",
      "('traing data shape', (120, 4))\n",
      "('training scaler:', 'scale')\n",
      "('find best model', 'scale', 'MLP')\n",
      "('find best model', 'scale', 'Bag')\n",
      "('training scaler:', 'qt')\n",
      "('training scaler:', 'maxabs')\n",
      "('training scaler:', 'minmax')\n",
      "('training scaler:', 'robust')\n",
      "('training scaler:', 'norm')\n",
      "\n",
      "train result:------------------------------\n",
      "   model  scaler  train_score  valid_score      time\n",
      "0  ORSVC   scale     0.958333          1.0  0.008440\n",
      "1    SVC  robust     0.958333          1.0  0.001180\n",
      "2    LR2   scale     0.916667          1.0  0.001326\n",
      "3    LR2  robust     0.864583          1.0  0.001373\n",
      "4    SVC  maxabs     0.947917          1.0  0.002661\n",
      "5    SVC   scale     0.968750          1.0  0.001519\n",
      "6  ORSVC  robust     0.937500          1.0  0.008627\n",
      "7    Bag  robust     0.979167          1.0  0.029832\n",
      "8    Bag  maxabs     0.979167          1.0  0.028423\n",
      "9     KN  maxabs     0.968750          1.0  0.002985\n",
      "\n",
      " group by model\n",
      "       train_score  valid_score      time\n",
      "model                                    \n",
      "Bag       0.982639     0.979167  0.029837\n",
      "KN        0.956597     0.965278  0.002700\n",
      "GBDT      1.000000     0.958333  0.189241\n",
      "RF        0.979167     0.958333  0.046461\n",
      "Tree      1.000000     0.951389  0.001055\n",
      "SVC       0.907986     0.951389  0.001885\n",
      "MLP       0.979167     0.923611  0.544293\n",
      "LR2       0.810764     0.909722  0.001452\n",
      "ORSVC     0.845486     0.895833  0.008217\n",
      "\n",
      " group by scaler\n",
      "        train_score  valid_score      time\n",
      "scaler                                    \n",
      "robust     0.959491     0.972222  0.082413\n",
      "scale      0.969907     0.972222  0.072077\n",
      "qt         0.964120     0.958333  0.089152\n",
      "minmax     0.940972     0.944444  0.098503\n",
      "maxabs     0.922454     0.939815  0.101380\n",
      "norm       0.884259     0.875000  0.106569\n"
     ]
    }
   ],
   "source": [
    "esc.set(models='',scalers='')\n",
    "esc.fit(X_train, y_train)"
   ]
  },
  {
   "cell_type": "code",
   "execution_count": 7,
   "metadata": {},
   "outputs": [
    {
     "name": "stdout",
     "output_type": "stream",
     "text": [
      "\n",
      "test result:------------------------------\n",
      "('test data shape:', (30, 4), ' test with:', 'ORSVC', 'scale')\n",
      "(' score:', 0.9666666666666667)\n"
     ]
    },
    {
     "data": {
      "text/plain": [
       "0.9666666666666667"
      ]
     },
     "execution_count": 7,
     "metadata": {},
     "output_type": "execute_result"
    }
   ],
   "source": [
    "esc.score(X_test, y_test)"
   ]
  },
  {
   "cell_type": "code",
   "execution_count": 8,
   "metadata": {},
   "outputs": [
    {
     "name": "stdout",
     "output_type": "stream",
     "text": [
      "\n",
      "plot learning curve:------------------------------\n"
     ]
    },
    {
     "data": {
      "image/png": "[encoded data removed]",
      "text/plain": [
       "<matplotlib.figure.Figure at 0x1109b6ad0>"
      ]
     },
     "metadata": {
      "needs_background": "light"
     },
     "output_type": "display_data"
    }
   ],
   "source": [
    "esc.plot_learning_curve()"
   ]
  },
  {
   "cell_type": "code",
   "execution_count": 9,
   "metadata": {},
   "outputs": [
    {
     "name": "stdout",
     "output_type": "stream",
     "text": [
      "BaggingClassifier(base_estimator=None, bootstrap=True,\n",
      "         bootstrap_features=False, max_features=1.0, max_samples=1.0,\n",
      "         n_estimators=10, n_jobs=1, oob_score=False, random_state=1,\n",
      "         verbose=0, warm_start=False)\n"
     ]
    }
   ],
   "source": [
    "print(esc.best_model_)"
   ]
  },
  {
   "cell_type": "code",
   "execution_count": 10,
   "metadata": {},
   "outputs": [
    {
     "name": "stdout",
     "output_type": "stream",
     "text": [
      "StandardScaler(copy=True, with_mean=True, with_std=True)\n"
     ]
    }
   ],
   "source": [
    "print(esc.best_scaler_)"
   ]
  }
 ],
 "metadata": {
  "kernelspec": {
   "display_name": "Python 2",
   "language": "python",
   "name": "python2"
  },
  "language_info": {
   "codemirror_mode": {
    "name": "ipython",
    "version": 2
   },
   "file_extension": ".py",
   "mimetype": "text/x-python",
   "name": "python",
   "nbconvert_exporter": "python",
   "pygments_lexer": "ipython2",
   "version": "2.7.13"
  }
 },
 "nbformat": 4,
 "nbformat_minor": 1
}
