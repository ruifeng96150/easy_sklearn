{
 "cells": [
  {
   "cell_type": "markdown",
   "metadata": {},
   "source": [
    "### This book will show how to use easy_sklearn to build clustering models"
   ]
  },
  {
   "cell_type": "code",
   "execution_count": 1,
   "metadata": {},
   "outputs": [],
   "source": [
    "from sklearn.datasets import load_iris\n",
    "from easy_sklearn import EasySklearnClustering"
   ]
  },
  {
   "cell_type": "code",
   "execution_count": 2,
   "metadata": {},
   "outputs": [],
   "source": [
    "ds = load_iris()\n",
    "X = ds.data\n",
    "y = ds.target\n",
    "c = ds.feature_names"
   ]
  },
  {
   "cell_type": "code",
   "execution_count": 3,
   "metadata": {},
   "outputs": [
    {
     "name": "stdout",
     "output_type": "stream",
     "text": [
      "begin train:------------------------------\n",
      "('traing data shape', (120, 4))\n",
      "('training scaler:', 'scale')\n",
      "('find best model', 'scale', 'KM')\n",
      "('training scaler:', 'qt')\n",
      "('find best model', 'qt', 'KM')\n",
      "('training scaler:', 'maxabs')\n",
      "('find best model', 'maxabs', 'KM')\n",
      "('training scaler:', 'minmax')\n",
      "('training scaler:', 'robust')\n",
      "('training scaler:', 'norm')\n",
      "('find best model', 'norm', 'KM')\n",
      "\n",
      "train result:------------------------------\n",
      "  model  scaler  train_score  valid_score      time\n",
      "0    KM    norm    -0.204292    -0.049897  0.050737\n",
      "1    KM  maxabs    -1.856634    -0.477971  0.027057\n",
      "2    KM  minmax    -4.845176    -1.129667  0.042767\n",
      "3    KM      qt    -8.616698    -2.058734  0.030098\n",
      "4    KM  robust   -49.149781    -9.197763  0.057043\n",
      "5    KM   scale   -96.881107   -19.104889  0.030016\n",
      "\n",
      " group by model\n",
      "       train_score  valid_score     time\n",
      "model                                   \n",
      "KM      -26.925614    -5.336487  0.03962\n",
      "\n",
      " group by scaler\n",
      "        train_score  valid_score      time\n",
      "scaler                                    \n",
      "norm      -0.204292    -0.049897  0.050737\n",
      "maxabs    -1.856634    -0.477971  0.027057\n",
      "minmax    -4.845176    -1.129667  0.042767\n",
      "qt        -8.616698    -2.058734  0.030098\n",
      "robust   -49.149781    -9.197763  0.057043\n",
      "scale    -96.881107   -19.104889  0.030016\n",
      "\n",
      "test result:------------------------------\n",
      "('test data shape:', (30, 4), ' test with:', 'KM', 'norm')\n",
      "(' score:', -0.07221757563259557)\n"
     ]
    },
    {
     "data": {
      "text/plain": [
       "-0.07221757563259557"
      ]
     },
     "execution_count": 3,
     "metadata": {},
     "output_type": "execute_result"
    }
   ],
   "source": [
    "esc = EasySklearnClustering()\n",
    "X_train, X_test, y_train, y_test = esc.split_data(X, y)\n",
    "esc.n_clusters = 3\n",
    "esc.set()\n",
    "esc.fit(X_train, y_train)\n",
    "esc.score(X_test, y_test)"
   ]
  },
  {
   "cell_type": "code",
   "execution_count": 4,
   "metadata": {},
   "outputs": [
    {
     "name": "stdout",
     "output_type": "stream",
     "text": [
      "KMeans(algorithm='auto', copy_x=True, init='k-means++', max_iter=300,\n",
      "    n_clusters=3, n_init=10, n_jobs=None, precompute_distances='auto',\n",
      "    random_state=9, tol=0.0001, verbose=0)\n"
     ]
    }
   ],
   "source": [
    "clf = esc.best_model_\n",
    "print(clf)"
   ]
  },
  {
   "cell_type": "code",
   "execution_count": 5,
   "metadata": {},
   "outputs": [
    {
     "name": "stdout",
     "output_type": "stream",
     "text": [
      "\n",
      "optimize:------------------------------\n",
      "Fitting 5 folds for each of 1 candidates, totalling 5 fits\n"
     ]
    },
    {
     "name": "stderr",
     "output_type": "stream",
     "text": [
      "/Library/Frameworks/Python.framework/Versions/2.7/lib/python2.7/site-packages/sklearn/model_selection/_search.py:271: UserWarning: The total space of parameters 1 is smaller than n_iter=20. Running 1 iterations. For exhaustive searches, use GridSearchCV.\n",
      "  % (grid_size, self.n_iter, grid_size), UserWarning)\n",
      "[Parallel(n_jobs=-1)]: Using backend LokyBackend with 4 concurrent workers.\n"
     ]
    },
    {
     "name": "stdout",
     "output_type": "stream",
     "text": [
      "('best parameter ', {})\n",
      "('The score after optimize', -0.07227950548396933)\n"
     ]
    },
    {
     "name": "stderr",
     "output_type": "stream",
     "text": [
      "[Parallel(n_jobs=-1)]: Done   5 out of   5 | elapsed:    5.0s finished\n"
     ]
    }
   ],
   "source": [
    "esc.optimize(scoring='f1_weighted')"
   ]
  },
  {
   "cell_type": "code",
   "execution_count": 6,
   "metadata": {},
   "outputs": [
    {
     "name": "stdout",
     "output_type": "stream",
     "text": [
      "\n",
      " predict with model=KM and scaler=norm ------------------------------\n"
     ]
    }
   ],
   "source": [
    "y_pred = esc.predict(X_test)"
   ]
  },
  {
   "cell_type": "code",
   "execution_count": 7,
   "metadata": {},
   "outputs": [
    {
     "data": {
      "image/png": "[encoded data removed]",
      "text/plain": [
       "<matplotlib.figure.Figure at 0x110f4e3d0>"
      ]
     },
     "metadata": {
      "needs_background": "light"
     },
     "output_type": "display_data"
    }
   ],
   "source": [
    "esc.plot_cluster(X_train, clf)"
   ]
  },
  {
   "cell_type": "code",
   "execution_count": null,
   "metadata": {},
   "outputs": [],
   "source": []
  }
 ],
 "metadata": {
  "kernelspec": {
   "display_name": "Python 2",
   "language": "python",
   "name": "python2"
  },
  "language_info": {
   "codemirror_mode": {
    "name": "ipython",
    "version": 2
   },
   "file_extension": ".py",
   "mimetype": "text/x-python",
   "name": "python",
   "nbconvert_exporter": "python",
   "pygments_lexer": "ipython2",
   "version": "2.7.13"
  }
 },
 "nbformat": 4,
 "nbformat_minor": 1
}
